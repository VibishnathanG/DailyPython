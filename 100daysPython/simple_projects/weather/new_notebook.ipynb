{
 "cells": [
  {
   "cell_type": "code",
   "execution_count": 4,
   "id": "8255df0b",
   "metadata": {},
   "outputs": [
    {
     "name": "stdout",
     "output_type": "stream",
     "text": [
      "   Duration  Pulse  Maxpulse  Calories\n",
      "0        60    110       130     409.1\n",
      "1        60    117       145     479.0\n",
      "2        60    103       135     340.0\n",
      "3        45    109       175     282.4\n",
      "4        45    117       148     406.0\n",
      "<class 'pandas.core.frame.DataFrame'>\n",
      "RangeIndex: 24 entries, 0 to 23\n",
      "Data columns (total 4 columns):\n",
      " #   Column    Non-Null Count  Dtype  \n",
      "---  ------    --------------  -----  \n",
      " 0   Duration  24 non-null     int64  \n",
      " 1   Pulse     24 non-null     int64  \n",
      " 2   Maxpulse  24 non-null     int64  \n",
      " 3   Calories  23 non-null     float64\n",
      "dtypes: float64(1), int64(3)\n",
      "memory usage: 900.0 bytes\n",
      "None\n"
     ]
    }
   ],
   "source": [
    "import pandas as pd\n",
    "\n",
    "# Read CSV into DataFrame\n",
    "df = pd.read_csv(\"data.csv\")\n",
    "\n",
    "# Peek at the data\n",
    "print(df.head())   # first 5 rows\n",
    "print(df.info())   # column names, data types\n"
   ]
  },
  {
   "cell_type": "code",
   "execution_count": 7,
   "id": "abe1d7eb",
   "metadata": {},
   "outputs": [
    {
     "name": "stdout",
     "output_type": "stream",
     "text": [
      "  service      region  cost        date\n",
      "0     EC2   us-east-1  12.5  2025-09-01\n",
      "1      S3   us-east-1   5.2  2025-09-01\n",
      "2     EC2  ap-south-1   7.8  2025-09-01\n",
      "<class 'pandas.core.frame.DataFrame'>\n",
      "RangeIndex: 3 entries, 0 to 2\n",
      "Data columns (total 4 columns):\n",
      " #   Column   Non-Null Count  Dtype  \n",
      "---  ------   --------------  -----  \n",
      " 0   service  3 non-null      object \n",
      " 1   region   3 non-null      object \n",
      " 2   cost     3 non-null      float64\n",
      " 3   date     3 non-null      object \n",
      "dtypes: float64(1), object(3)\n",
      "memory usage: 228.0+ bytes\n"
     ]
    }
   ],
   "source": [
    "aws_costs = [\n",
    "  {\"service\":\"EC2\",\"region\":\"us-east-1\",\"cost\":12.5,\"date\":\"2025-09-01\"},\n",
    "  {\"service\":\"S3\",\"region\":\"us-east-1\",\"cost\":5.2,\"date\":\"2025-09-01\"},\n",
    "  {\"service\":\"EC2\",\"region\":\"ap-south-1\",\"cost\":7.8,\"date\":\"2025-09-01\"}\n",
    "]\n",
    "\n",
    "import pandas as pd\n",
    "df = pd.DataFrame(aws_costs)\n",
    "print(df.head())\n",
    "\n",
    "df.info()\n"
   ]
  },
  {
   "cell_type": "code",
   "execution_count": 26,
   "id": "d2e730b1",
   "metadata": {},
   "outputs": [
    {
     "name": "stdout",
     "output_type": "stream",
     "text": [
      "   Duration  Pulse  Maxpulse  Calories   PatientID   VisitDate BloodPressure  \\\n",
      "0        60    110       130     409.1  John Smith  2024-01-01        120/80   \n",
      "\n",
      "   Temperature  SpO2 Diagnosis  \n",
      "0         98.6    99   Healthy  \n"
     ]
    }
   ],
   "source": [
    "import pandas as pd\n",
    "\n",
    "data = pd.read_csv(\"data.csv\")\n",
    "\n",
    "data_dict = data.to_dict()\n",
    "# print(data_dict)\n",
    "\n",
    "# temp = data[\"Temperature\"].mean()\n",
    "# print(temp)\n",
    "\n",
    "# max = data[\"Temperature\"].max()\n",
    "# print(max)\n",
    "\n",
    "print(data[data[\"PatientID\"] == \"John Smith\"])"
   ]
  }
 ],
 "metadata": {
  "kernelspec": {
   "display_name": ".venv",
   "language": "python",
   "name": "python3"
  },
  "language_info": {
   "codemirror_mode": {
    "name": "ipython",
    "version": 3
   },
   "file_extension": ".py",
   "mimetype": "text/x-python",
   "name": "python",
   "nbconvert_exporter": "python",
   "pygments_lexer": "ipython3",
   "version": "3.12.3"
  }
 },
 "nbformat": 4,
 "nbformat_minor": 5
}
