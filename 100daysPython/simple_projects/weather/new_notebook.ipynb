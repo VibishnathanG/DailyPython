{
 "cells": [
  {
   "cell_type": "code",
   "execution_count": 4,
   "id": "8255df0b",
   "metadata": {},
   "outputs": [
    {
     "name": "stdout",
     "output_type": "stream",
     "text": [
      "   Duration  Pulse  Maxpulse  Calories\n",
      "0        60    110       130     409.1\n",
      "1        60    117       145     479.0\n",
      "2        60    103       135     340.0\n",
      "3        45    109       175     282.4\n",
      "4        45    117       148     406.0\n",
      "<class 'pandas.core.frame.DataFrame'>\n",
      "RangeIndex: 24 entries, 0 to 23\n",
      "Data columns (total 4 columns):\n",
      " #   Column    Non-Null Count  Dtype  \n",
      "---  ------    --------------  -----  \n",
      " 0   Duration  24 non-null     int64  \n",
      " 1   Pulse     24 non-null     int64  \n",
      " 2   Maxpulse  24 non-null     int64  \n",
      " 3   Calories  23 non-null     float64\n",
      "dtypes: float64(1), int64(3)\n",
      "memory usage: 900.0 bytes\n",
      "None\n"
     ]
    }
   ],
   "source": [
    "import pandas as pd\n",
    "\n",
    "# Read CSV into DataFrame\n",
    "df = pd.read_csv(\"data.csv\")\n",
    "\n",
    "# Peek at the data\n",
    "print(df.head())   # first 5 rows\n",
    "print(df.info())   # column names, data types\n"
   ]
  },
  {
   "cell_type": "code",
   "execution_count": null,
   "id": "abe1d7eb",
   "metadata": {},
   "outputs": [
    {
     "name": "stdout",
     "output_type": "stream",
     "text": [
      "3\n"
     ]
    }
   ],
   "source": [
    "aws_costs = [\n",
    "  {\"service\":\"EC2\",\"region\":\"us-east-1\",\"cost\":12.5,\"date\":\"2025-09-01\"},\n",
    "  {\"service\":\"S3\",\"region\":\"us-east-1\",\"cost\":5.2,\"date\":\"2025-09-01\"},\n",
    "  {\"service\":\"EC2\",\"region\":\"ap-south-1\",\"cost\":7.8,\"date\":\"2025-09-01\"}\n",
    "]\n",
    "\n",
    "import pandas as pd\n",
    "df = pd.DataFrame(aws_costs)\n",
    "print(df.head())\n",
    "\n",
    "\n",
    "df.info()\n"
   ]
  },
  {
   "cell_type": "code",
   "execution_count": 45,
   "id": "d2e730b1",
   "metadata": {},
   "outputs": [
    {
     "name": "stdout",
     "output_type": "stream",
     "text": [
      "  Primary Fur Color  count\n",
      "0              Gray   2473\n",
      "1          Cinnamon    392\n",
      "2             Black    103\n",
      "2568\n"
     ]
    }
   ],
   "source": [
    "# import pandas as pd\n",
    "\n",
    "\n",
    "# data = pd.read_csv(\"2018_Central_Park_Squirrel_Census_-_Squirrel_Data_20251002.csv\")\n",
    "# dict = {\n",
    "#     \"furcolor\" : [],\n",
    "#     \"count\" : []\n",
    "# }\n",
    "# for i in data[\"Primary Fur Color\"].value_counts().items():\n",
    "#     dict[\"furcolor\"].append(i[0])\n",
    "#     dict[\"count\"].append(i[1])\n",
    "\n",
    "# df = pd.DataFrame(dict)\n",
    "# print(df)\n",
    "\n",
    "\n",
    "import pandas as pd\n",
    "\n",
    "data = pd.read_csv(\"2018_Central_Park_Squirrel_Census_-_Squirrel_Data_20251002.csv\")\n",
    "df = data[\"Primary Fur Color\"].value_counts().reset_index()\n",
    "print(df)\n",
    "# df.columns = [\"furcolor\", \"count\"]\n",
    "# print(df)\n",
    "\n",
    "print(len(data[data[\"Age\"] == \"Adult\"]))\n"
   ]
  },
  {
   "cell_type": "code",
   "execution_count": 16,
   "id": "0a270785",
   "metadata": {},
   "outputs": [
    {
     "ename": "TypeError",
     "evalue": "'Entry' object is not callable",
     "output_type": "error",
     "traceback": [
      "\u001b[31m---------------------------------------------------------------------------\u001b[39m",
      "\u001b[31mTypeError\u001b[39m                                 Traceback (most recent call last)",
      "\u001b[36mCell\u001b[39m\u001b[36m \u001b[39m\u001b[32mIn[16]\u001b[39m\u001b[32m, line 30\u001b[39m\n\u001b[32m      1\u001b[39m NATO = {\n\u001b[32m      2\u001b[39m     \u001b[33m\"\u001b[39m\u001b[33ma\u001b[39m\u001b[33m\"\u001b[39m: \u001b[33m\"\u001b[39m\u001b[33malpha\u001b[39m\u001b[33m\"\u001b[39m,\n\u001b[32m      3\u001b[39m     \u001b[33m\"\u001b[39m\u001b[33mb\u001b[39m\u001b[33m\"\u001b[39m: \u001b[33m\"\u001b[39m\u001b[33mbravo\u001b[39m\u001b[33m\"\u001b[39m, \n\u001b[32m   (...)\u001b[39m\u001b[32m     27\u001b[39m     \u001b[33m\"\u001b[39m\u001b[33mz\u001b[39m\u001b[33m\"\u001b[39m: \u001b[33m\"\u001b[39m\u001b[33mzulu\u001b[39m\u001b[33m\"\u001b[39m\n\u001b[32m     28\u001b[39m }    \n\u001b[32m---> \u001b[39m\u001b[32m30\u001b[39m Name = \u001b[38;5;28;43minput\u001b[39;49m\u001b[43m(\u001b[49m\u001b[33;43m\"\u001b[39;49m\u001b[33;43mEnter Name: \u001b[39;49m\u001b[33;43m\"\u001b[39;49m\u001b[43m)\u001b[49m\n\u001b[32m     31\u001b[39m \u001b[38;5;28;01mtry\u001b[39;00m:\n\u001b[32m     32\u001b[39m     output = [NATO[i] \u001b[38;5;28;01mfor\u001b[39;00m i \u001b[38;5;129;01min\u001b[39;00m Name.lower() \u001b[38;5;28;01mif\u001b[39;00m i \u001b[38;5;129;01min\u001b[39;00m NATO]\n",
      "\u001b[31mTypeError\u001b[39m: 'Entry' object is not callable"
     ]
    }
   ],
   "source": [
    "NATO = {\n",
    "    \"a\": \"alpha\",\n",
    "    \"b\": \"bravo\", \n",
    "    \"c\": \"charlie\",\n",
    "    \"d\": \"delta\",\n",
    "    \"e\": \"echo\",\n",
    "    \"f\": \"foxtrot\",\n",
    "    \"g\": \"golf\", \n",
    "    \"h\": \"hotel\",\n",
    "    \"i\": \"india\",\n",
    "    \"j\": \"juliet\",\n",
    "    \"k\": \"kilo\",\n",
    "    \"l\": \"lima\",\n",
    "    \"m\": \"mike\",\n",
    "    \"n\": \"november\",\n",
    "    \"o\": \"oscar\",\n",
    "    \"p\": \"papa\",\n",
    "    \"q\": \"quebec\",\n",
    "    \"r\": \"romeo\",\n",
    "    \"s\": \"sierra\", \n",
    "    \"t\": \"tango\",\n",
    "    \"u\": \"uniform\",\n",
    "    \"v\": \"victor\",\n",
    "    \"w\": \"whiskey\",\n",
    "    \"x\": \"x-ray\",\n",
    "    \"y\": \"yankee\",\n",
    "    \"z\": \"zulu\"\n",
    "}    \n",
    "\n",
    "Name = input(\"Enter Name: \")\n",
    "try:\n",
    "    output = [NATO[i] for i in Name.lower() if i in NATO]\n",
    "    print(output)\n",
    "except NameError as n:\n",
    "    print(n)\n",
    "\n"
   ]
  },
  {
   "cell_type": "code",
   "execution_count": null,
   "id": "96367c1f",
   "metadata": {},
   "outputs": [],
   "source": [
    "import tkinter as tk\n",
    "\n",
    "window = tk.Tk()\n",
    "window.title(\"Mile to Kms & Kms to Miles - Converter\")\n",
    "window.geometry(\"500x500\")\n",
    "\n",
    "def miles_kms():\n",
    "    return None\n",
    "\n",
    "def kms_miles():\n",
    "    return None\n",
    "\n",
    "option_label = tk.Label(text=\"Choose option for Convertion:)\")\n",
    "option_label.place(x=150,y=50)\n",
    "\n",
    "def radio_used():\n",
    "    conversion = radio_state.get()\n",
    "    return conversion\n",
    "\n",
    "def conversion_button():\n",
    "    conversion = radio_used()\n",
    "    if conversion == 1:\n",
    "        miles = float(entry.get())\n",
    "        kms = miles * 1.60934\n",
    "        output_label.config(text=f\"{round(kms,2)} Kms\")\n",
    "    if conversion == 2:\n",
    "        kms = float(entry.get())\n",
    "        miles = kms / 1.60934\n",
    "        output_label.config(text=f\"{round(miles,2)} Miles\")\n",
    "    \n",
    "#Variable to hold on to which radio button value is checked.\n",
    "radio_state = tk.IntVar()\n",
    "radiobutton1 = tk.Radiobutton(text=\"Miles To Kms\", value=1, variable=radio_state, command=radio_used)\n",
    "radiobutton2 = tk.Radiobutton(text=\"Kms To Miles\", value=2, variable=radio_state, command=radio_used)\n",
    "radiobutton1.place(x=200,y=100)\n",
    "radiobutton2.place(x=200,y=150)\n",
    "\n",
    "#Entries\n",
    "entry = tk.Entry(width=10)\n",
    "#Add some text to begin with\n",
    "entry.insert(tk.END, string=\"\")\n",
    "input_value = entry.get()\n",
    "entry.place(x=100, y=200)\n",
    "\n",
    "\n",
    "option_label = tk.Button(text=\"Convert\", command=conversion_button)\n",
    "option_label.place(x=220,y=200)\n",
    "\n",
    "\n",
    "output_label = tk.Label(text=\"\")\n",
    "output_label.place(x=400,y=200)\n",
    "\n",
    "\n",
    "window.mainloop()"
   ]
  },
  {
   "cell_type": "code",
   "execution_count": 117,
   "id": "2e0b816c",
   "metadata": {},
   "outputs": [
    {
     "name": "stdout",
     "output_type": "stream",
     "text": [
      "2\n",
      "40\n"
     ]
    }
   ],
   "source": [
    "print(5 // 2)\n",
    "print(1000 % 60)"
   ]
  }
 ],
 "metadata": {
  "kernelspec": {
   "display_name": ".venv",
   "language": "python",
   "name": "python3"
  },
  "language_info": {
   "codemirror_mode": {
    "name": "ipython",
    "version": 3
   },
   "file_extension": ".py",
   "mimetype": "text/x-python",
   "name": "python",
   "nbconvert_exporter": "python",
   "pygments_lexer": "ipython3",
   "version": "3.12.3"
  }
 },
 "nbformat": 4,
 "nbformat_minor": 5
}
