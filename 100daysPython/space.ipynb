{
 "cells": [
  {
   "cell_type": "code",
   "execution_count": null,
   "id": "fa88c5a5",
   "metadata": {
    "notebookRunGroups": {
     "groupValue": "1"
    }
   },
   "outputs": [],
   "source": [
    "import pandas\n",
    "\n",
    "student_scores = {\n",
    "    'Harry': 88,\n",
    "    'Ron': 78,\n",
    "    'Hermione': 95,\n",
    "    'Draco': 75,\n",
    "    'Neville': 60\n",
    "}\n",
    "\n",
    "student_grades = {}\n",
    "for key,value in student_scores.items():\n",
    "    print(key,value)\n",
    "    student_grades[key] = ('Outstanding' if value >= 91 and value <= 100 \n",
    "                          else 'Exceeds Expectations' if value >= 81 and value <= 90\n",
    "                          else 'Acceptable' if value >= 71 and value <= 80\n",
    "                          else 'Fail')\n",
    "\n",
    "print(student_grades)\n",
    "sample_list = [1,2,3, {\"Sample_Key\": \"Sample Value\", \"Samle_list\": [1,2,3,4]}]\n",
    "\n",
    "print(type(sample_list), sample_list[3][\"Samle_list\"])"
   ]
  },
  {
   "cell_type": "code",
   "execution_count": null,
   "id": "32861e85",
   "metadata": {},
   "outputs": [],
   "source": [
    "import pyfiglet\n",
    "\n",
    "text = \"My Logo\"\n",
    "ascii_logo = pyfiglet.figlet_format(text, font=\"slant\")\n",
    "print(ascii_logo)"
   ]
  },
  {
   "cell_type": "code",
   "execution_count": 1,
   "id": "e5815f10",
   "metadata": {},
   "outputs": [
    {
     "name": "stdout",
     "output_type": "stream",
     "text": [
      "{2, 35, 12, 46, 24, 57}\n"
     ]
    }
   ],
   "source": [
    "ind = [12,12,24,35,46,57,2]\n",
    "ind = set(ind)\n",
    "print(ind)"
   ]
  },
  {
   "cell_type": "code",
   "execution_count": 3,
   "id": "bf2f3c9b",
   "metadata": {},
   "outputs": [
    {
     "name": "stdout",
     "output_type": "stream",
     "text": [
      "turtle\n",
      "random\n"
     ]
    }
   ],
   "source": [
    "with open(\"requirements.txt\", mode=\"r\" ) as f:\n",
    "    c = f.read()\n",
    "    print(c)"
   ]
  },
  {
   "cell_type": "code",
   "execution_count": 5,
   "id": "359256ae",
   "metadata": {},
   "outputs": [
    {
     "data": {
      "text/plain": [
       "{'USER': 'vibish',\n",
       " 'VSCODE_WSL_EXT_LOCATION': '/mnt/c/Users/vibis/.vscode/extensions/ms-vscode-remote.remote-wsl-0.104.2',\n",
       " 'SHLVL': '0',\n",
       " 'HOME': '/home/vibish',\n",
       " 'DBUS_SESSION_BUS_ADDRESS': 'unix:path=/run/user/1000/bus',\n",
       " 'WSL_DISTRO_NAME': 'Ubuntu-24.04',\n",
       " 'WAYLAND_DISPLAY': 'wayland-0',\n",
       " 'LOGNAME': 'vibish',\n",
       " 'NAME': 'SHADOW',\n",
       " 'WSL_INTEROP': '/run/WSL/639_interop',\n",
       " 'PULSE_SERVER': 'unix:/mnt/wslg/PulseServer',\n",
       " '_': '/mnt/e/Upskill_Main/Main_Workspace/.venv/bin/python',\n",
       " 'TERM': 'xterm-color',\n",
       " 'PATH': '/mnt/e/Upskill_Main/Main_Workspace/.venv/bin:/home/vibish/.vscode-server/bin/e3a5acfb517a443235981655413d566533107e92/bin/remote-cli:/usr/local/sbin:/usr/local/bin:/usr/sbin:/usr/bin:/sbin:/bin:/usr/games:/usr/local/games:/usr/lib/wsl/lib:/mnt/c/Users/vibis/AppData/Local/Programs/Python/Python313/Scripts/:/mnt/c/Users/vibis/AppData/Local/Programs/Python/Python313/:/mnt/c/Program Files/Common Files/Oracle/Java/javapath:/mnt/c/WINDOWS/system32:/mnt/c/WINDOWS:/mnt/c/WINDOWS/System32/Wbem:/mnt/c/WINDOWS/System32/WindowsPowerShell/v1.0/:/mnt/c/WINDOWS/System32/OpenSSH/:/mnt/c/Program Files/dotnet/:/mnt/c/Program Files/Git/cmd:/mnt/c/Program Files/Amazon/AWSCLIV2/:/mnt/c/ProgramData/chocolatey/bin:/mnt/c/Users/vibis/AppData/Local/Microsoft/WindowsApps:/mnt/c/Users/vibis/AppData/Local/Programs/Microsoft VS Code/bin',\n",
       " 'XDG_RUNTIME_DIR': '/run/user/1000/',\n",
       " 'DISPLAY': ':0',\n",
       " 'LANG': 'C.UTF-8',\n",
       " 'SHELL': '/bin/bash',\n",
       " 'VSCODE_SERVER_TAR': '/mnt/c/Users/vibis/vscode-remote-wsl/stable/e3a5acfb517a443235981655413d566533107e92/vscode-server-stable-linux-x64.tar.gz',\n",
       " 'PWD': '/mnt/c/Users/vibis/AppData/Local/Programs/Microsoft VS Code',\n",
       " 'WSL2_GUI_APPS_ENABLED': '1',\n",
       " 'HOSTTYPE': 'x86_64',\n",
       " 'WSLENV': 'VSCODE_WSL_EXT_LOCATION/up:VSCODE_SERVER_TAR/up',\n",
       " 'VSCODE_CWD': '/mnt/c/Users/vibis/AppData/Local/Programs/Microsoft VS Code',\n",
       " 'VSCODE_NLS_CONFIG': '{\"userLocale\":\"en\",\"osLocale\":\"en\",\"resolvedLanguage\":\"en\",\"defaultMessagesFile\":\"/home/vibish/.vscode-server/bin/e3a5acfb517a443235981655413d566533107e92/out/nls.messages.json\",\"locale\":\"en\",\"availableLanguages\":{}}',\n",
       " 'VSCODE_HANDLES_SIGPIPE': 'true',\n",
       " 'LS_COLORS': 'rs=0:di=01;34:ln=01;36:mh=00:pi=40;33:so=01;35:do=01;35:bd=40;33;01:cd=40;33;01:or=40;31;01:mi=00:su=37;41:sg=30;43:ca=00:tw=30;42:ow=34;42:st=37;44:ex=01;32:*.tar=01;31:*.tgz=01;31:*.arc=01;31:*.arj=01;31:*.taz=01;31:*.lha=01;31:*.lz4=01;31:*.lzh=01;31:*.lzma=01;31:*.tlz=01;31:*.txz=01;31:*.tzo=01;31:*.t7z=01;31:*.zip=01;31:*.z=01;31:*.dz=01;31:*.gz=01;31:*.lrz=01;31:*.lz=01;31:*.lzo=01;31:*.xz=01;31:*.zst=01;31:*.tzst=01;31:*.bz2=01;31:*.bz=01;31:*.tbz=01;31:*.tbz2=01;31:*.tz=01;31:*.deb=01;31:*.rpm=01;31:*.jar=01;31:*.war=01;31:*.ear=01;31:*.sar=01;31:*.rar=01;31:*.alz=01;31:*.ace=01;31:*.zoo=01;31:*.cpio=01;31:*.7z=01;31:*.rz=01;31:*.cab=01;31:*.wim=01;31:*.swm=01;31:*.dwm=01;31:*.esd=01;31:*.avif=01;35:*.jpg=01;35:*.jpeg=01;35:*.mjpg=01;35:*.mjpeg=01;35:*.gif=01;35:*.bmp=01;35:*.pbm=01;35:*.pgm=01;35:*.ppm=01;35:*.tga=01;35:*.xbm=01;35:*.xpm=01;35:*.tif=01;35:*.tiff=01;35:*.png=01;35:*.svg=01;35:*.svgz=01;35:*.mng=01;35:*.pcx=01;35:*.mov=01;35:*.mpg=01;35:*.mpeg=01;35:*.m2v=01;35:*.mkv=01;35:*.webm=01;35:*.webp=01;35:*.ogm=01;35:*.mp4=01;35:*.m4v=01;35:*.mp4v=01;35:*.vob=01;35:*.qt=01;35:*.nuv=01;35:*.wmv=01;35:*.asf=01;35:*.rm=01;35:*.rmvb=01;35:*.flc=01;35:*.avi=01;35:*.fli=01;35:*.flv=01;35:*.gl=01;35:*.dl=01;35:*.xcf=01;35:*.xwd=01;35:*.yuv=01;35:*.cgm=01;35:*.emf=01;35:*.ogv=01;35:*.ogx=01;35:*.aac=00;36:*.au=00;36:*.flac=00;36:*.m4a=00;36:*.mid=00;36:*.midi=00;36:*.mka=00;36:*.mp3=00;36:*.mpc=00;36:*.ogg=00;36:*.ra=00;36:*.wav=00;36:*.oga=00;36:*.opus=00;36:*.spx=00;36:*.xspf=00;36:*~=00;90:*#=00;90:*.bak=00;90:*.crdownload=00;90:*.dpkg-dist=00;90:*.dpkg-new=00;90:*.dpkg-old=00;90:*.dpkg-tmp=00;90:*.old=00;90:*.orig=00;90:*.part=00;90:*.rej=00;90:*.rpmnew=00;90:*.rpmorig=00;90:*.rpmsave=00;90:*.swp=00;90:*.tmp=00;90:*.ucf-dist=00;90:*.ucf-new=00;90:*.ucf-old=00;90:',\n",
       " 'LESSCLOSE': '/usr/bin/lesspipe %s %s',\n",
       " 'LESSOPEN': '| /usr/bin/lesspipe %s',\n",
       " 'VSCODE_ESM_ENTRYPOINT': 'vs/workbench/api/node/extensionHostProcess',\n",
       " 'VSCODE_HANDLES_UNCAUGHT_ERRORS': 'true',\n",
       " 'ELECTRON_RUN_AS_NODE': '1',\n",
       " 'VSCODE_IPC_HOOK_CLI': '/run/user/1000/vscode-ipc-39596537-389a-41f3-88eb-d15ebe4d8fc6.sock',\n",
       " 'APPLICATION_INSIGHTS_NO_STATSBEAT': 'true',\n",
       " '__TELEMETRY_CLIENT_ID': '17c51faa-06b2-4d5b-b89c-0d1bfbf4c3b0',\n",
       " 'EXPERIMENTAL_HTTP_PROXY_SUPPORT': 'true',\n",
       " 'NO_PROXY': '',\n",
       " 'AWS_SDK_LOAD_CONFIG': 'true',\n",
       " 'VSCODE_L10N_BUNDLE_LOCATION': '',\n",
       " 'PYTHONUNBUFFERED': '1',\n",
       " 'VIRTUAL_ENV': '/mnt/e/Upskill_Main/Main_Workspace/.venv',\n",
       " 'PYTHONIOENCODING': 'utf-8',\n",
       " 'VIRTUAL_ENV_PROMPT': '(.venv) ',\n",
       " 'PS1': '(.venv) ',\n",
       " 'PYDEVD_IPYTHON_COMPATIBLE_DEBUGGING': '1',\n",
       " 'PYTHON_FROZEN_MODULES': 'on',\n",
       " 'PYDEVD_USE_FRAME_EVAL': 'NO',\n",
       " 'CLICOLOR': '1',\n",
       " 'FORCE_COLOR': '1',\n",
       " 'CLICOLOR_FORCE': '1',\n",
       " 'PAGER': 'cat',\n",
       " 'GIT_PAGER': 'cat',\n",
       " 'MPLBACKEND': 'module://matplotlib_inline.backend_inline'}"
      ]
     },
     "execution_count": 5,
     "metadata": {},
     "output_type": "execute_result"
    }
   ],
   "source": [
    "%env"
   ]
  },
  {
   "cell_type": "code",
   "execution_count": null,
   "id": "721a3cfd",
   "metadata": {},
   "outputs": [],
   "source": [
    "import pandas as pd\n",
    "\n",
    "data = pd.DataFrame(\"\")"
   ]
  }
 ],
 "metadata": {
  "kernelspec": {
   "display_name": ".venv",
   "language": "python",
   "name": "python3"
  },
  "language_info": {
   "codemirror_mode": {
    "name": "ipython",
    "version": 3
   },
   "file_extension": ".py",
   "mimetype": "text/x-python",
   "name": "python",
   "nbconvert_exporter": "python",
   "pygments_lexer": "ipython3",
   "version": "3.12.3"
  }
 },
 "nbformat": 4,
 "nbformat_minor": 5
}
