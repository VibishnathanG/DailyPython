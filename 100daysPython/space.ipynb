{
 "cells": [
  {
   "cell_type": "code",
   "execution_count": null,
   "id": "fa88c5a5",
   "metadata": {
    "notebookRunGroups": {
     "groupValue": "1"
    }
   },
   "outputs": [],
   "source": [
    "import pandas\n",
    "\n",
    "student_scores = {\n",
    "    'Harry': 88,\n",
    "    'Ron': 78,\n",
    "    'Hermione': 95,\n",
    "    'Draco': 75,\n",
    "    'Neville': 60\n",
    "}\n",
    "\n",
    "student_grades = {}\n",
    "for key,value in student_scores.items():\n",
    "    print(key,value)\n",
    "    student_grades[key] = ('Outstanding' if value >= 91 and value <= 100 \n",
    "                          else 'Exceeds Expectations' if value >= 81 and value <= 90\n",
    "                          else 'Acceptable' if value >= 71 and value <= 80\n",
    "                          else 'Fail')\n",
    "\n",
    "print(student_grades)\n",
    "sample_list = [1,2,3, {\"Sample_Key\": \"Sample Value\", \"Samle_list\": [1,2,3,4]}]\n",
    "\n",
    "print(type(sample_list), sample_list[3][\"Samle_list\"])"
   ]
  },
  {
   "cell_type": "code",
   "execution_count": null,
   "id": "31efa132",
   "metadata": {},
   "outputs": [],
   "source": [
    "def is_leap_year(year):\n",
    "    return year % 400 == 0 or (year % 4 == 0 and year % 100 != 0)\n"
   ]
  },
  {
   "cell_type": "code",
   "execution_count": null,
   "id": "32861e85",
   "metadata": {},
   "outputs": [],
   "source": [
    "import pyfiglet\n",
    "\n",
    "text = \"My Logo\"\n",
    "ascii_logo = pyfiglet.figlet_format(text, font=\"slant\")\n",
    "print(ascii_logo)"
   ]
  },
  {
   "cell_type": "code",
   "execution_count": 16,
   "id": "e5815f10",
   "metadata": {},
   "outputs": [
    {
     "name": "stdout",
     "output_type": "stream",
     "text": [
      "{2, 35, 12, 46, 24, 57}\n"
     ]
    }
   ],
   "source": [
    "ind = [12,12,24,35,46,57,2]\n",
    "ind = set(ind)\n",
    "print(ind)"
   ]
  },
  {
   "cell_type": "code",
   "execution_count": null,
   "id": "bf2f3c9b",
   "metadata": {},
   "outputs": [
    {
     "name": "stdout",
     "output_type": "stream",
     "text": [
      "2\n"
     ]
    }
   ],
   "source": []
  }
 ],
 "metadata": {
  "kernelspec": {
   "display_name": ".venv",
   "language": "python",
   "name": "python3"
  },
  "language_info": {
   "codemirror_mode": {
    "name": "ipython",
    "version": 3
   },
   "file_extension": ".py",
   "mimetype": "text/x-python",
   "name": "python",
   "nbconvert_exporter": "python",
   "pygments_lexer": "ipython3",
   "version": "3.12.3"
  }
 },
 "nbformat": 4,
 "nbformat_minor": 5
}
